{
 "cells": [
  {
   "cell_type": "markdown",
   "metadata": {},
   "source": [
    "# Averag polycyclic thermo group entries for polycyclic(PolycyclicRing)\n",
    "\n",
    "This ipython notebook averages all not None polycyclic group entries to use as polycyclic(PolycyclicRing). Code written by Hao-Wei Pang."
   ]
  },
  {
   "cell_type": "code",
   "execution_count": 70,
   "metadata": {},
   "outputs": [],
   "source": [
    "from rmgpy.data.thermo import ThermoDatabase\n",
    "from rmgpy import settings\n",
    "import numpy as np\n",
    "import os\n",
    "from datetime import date"
   ]
  },
  {
   "cell_type": "markdown",
   "metadata": {},
   "source": [
    "# Loading thermo database"
   ]
  },
  {
   "cell_type": "code",
   "execution_count": 71,
   "metadata": {},
   "outputs": [],
   "source": [
    "database = ThermoDatabase()\n",
    "path = os.path.join(settings['database.directory'],'thermo/groups')\n",
    "database.load_groups(path)"
   ]
  },
  {
   "cell_type": "markdown",
   "metadata": {},
   "source": [
    "# Averaging polycyclic group entries"
   ]
  },
  {
   "cell_type": "code",
   "execution_count": 72,
   "metadata": {},
   "outputs": [],
   "source": [
    "Cpdata_avg = 0\n",
    "H298_avg = 0\n",
    "S298_avg = 0\n",
    "count = 0\n",
    "for label, entry in database.groups['polycyclic'].entries.items():\n",
    "    if label != 'PolycyclicRing':\n",
    "        if entry.data is not None:\n",
    "            if (entry.data.Tdata.value_si == np.array([300,400,500,600,800,1000,1500])).all():\n",
    "                Cpdata_avg += entry.data.Cpdata.value_si\n",
    "                H298_avg += entry.data.H298.value_si\n",
    "                S298_avg += entry.data.S298.value_si\n",
    "                count += 1\n",
    "Cpdata_avg /= count\n",
    "H298_avg /= count\n",
    "S298_avg /= count"
   ]
  },
  {
   "cell_type": "markdown",
   "metadata": {},
   "source": [
    "# Print out polycyclic(polycyclicRing) entry"
   ]
  },
  {
   "cell_type": "code",
   "execution_count": 73,
   "metadata": {},
   "outputs": [],
   "source": [
    "entry_block = \"\"\"\n",
    "entry(\n",
    "    index = 0,\n",
    "    label = \"PolycyclicRing\",\n",
    "    group = \n",
    "\\\"\"\"\n",
    "1 * R u0\n",
    "\\\"\"\",\n",
    "    thermo = ThermoData(\n",
    "        Tdata = ([300,400,500,600,800,1000,1500],'K'),\n",
    "        Cpdata = ({},'cal/(mol*K)'),\n",
    "        H298 = ({:.3f},'kcal/mol'),\n",
    "        S298 = ({:.3f},'cal/(mol*K)'),\n",
    "    ),\n",
    "    shortDesc = u\\\"\"\"\\\"\"\",\n",
    "    longDesc = \n",
    "u\\\"\"\"\n",
    "Averaged on {} using averaging_polycyclic_group_entries_for_polycyclic(PolycyclicRing).ipynb\n",
    "\\\"\"\",\n",
    ")\n",
    "\"\"\".format(np.array2string(Cpdata_avg/4.184, separator=', ', precision=4), H298_avg/4184, S298_avg/4.184,date.today())"
   ]
  },
  {
   "cell_type": "code",
   "execution_count": 74,
   "metadata": {},
   "outputs": [
    {
     "name": "stdout",
     "output_type": "stream",
     "text": [
      "\n",
      "entry(\n",
      "    index = 0,\n",
      "    label = \"PolycyclicRing\",\n",
      "    group = \n",
      "\"\"\"\n",
      "1 * R u0\n",
      "\"\"\",\n",
      "    thermo = ThermoData(\n",
      "        Tdata = ([300,400,500,600,800,1000,1500],'K'),\n",
      "        Cpdata = ([-8.0965, -8.0273, -7.5406, -6.7245, -5.1629, -3.8514, -2.2408],'cal/(mol*K)'),\n",
      "        H298 = (38.139,'kcal/mol'),\n",
      "        S298 = (52.871,'cal/(mol*K)'),\n",
      "    ),\n",
      "    shortDesc = u\"\"\"\"\"\",\n",
      "    longDesc = \n",
      "u\"\"\"\n",
      "Averaged on 2020-06-03 using averaging_polycyclic_group_entries_for_polycyclic(PolycyclicRing).ipynb\n",
      "\"\"\",\n",
      ")\n",
      "\n"
     ]
    }
   ],
   "source": [
    "print(entry_block)"
   ]
  },
  {
   "cell_type": "code",
   "execution_count": null,
   "metadata": {},
   "outputs": [],
   "source": []
  }
 ],
 "metadata": {
  "kernelspec": {
   "display_name": "Python 3",
   "language": "python",
   "name": "python3"
  },
  "language_info": {
   "codemirror_mode": {
    "name": "ipython",
    "version": 3
   },
   "file_extension": ".py",
   "mimetype": "text/x-python",
   "name": "python",
   "nbconvert_exporter": "python",
   "pygments_lexer": "ipython3",
   "version": "3.7.7"
  }
 },
 "nbformat": 4,
 "nbformat_minor": 4
}
